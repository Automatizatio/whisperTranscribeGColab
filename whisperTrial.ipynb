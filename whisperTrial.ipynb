{
  "nbformat": 4,
  "nbformat_minor": 0,
  "metadata": {
    "colab": {
      "provenance": [],
      "gpuType": "T4",
      "authorship_tag": "ABX9TyOhZUrs3K0+UCD/RHICWHdY",
      "include_colab_link": true
    },
    "kernelspec": {
      "name": "python3",
      "display_name": "Python 3"
    },
    "language_info": {
      "name": "python"
    },
    "accelerator": "GPU",
    "gpuClass": "standard"
  },
  "cells": [
    {
      "cell_type": "markdown",
      "metadata": {
        "id": "view-in-github",
        "colab_type": "text"
      },
      "source": [
        "<a href=\"https://colab.research.google.com/github/chrisnnchris/whisperTranscribeGColab/blob/main/whisperTrial.ipynb\" target=\"_parent\"><img src=\"https://colab.research.google.com/assets/colab-badge.svg\" alt=\"Open In Colab\"/></a>"
      ]
    },
    {
      "cell_type": "code",
      "execution_count": 1,
      "metadata": {
        "colab": {
          "base_uri": "https://localhost:8080/"
        },
        "id": "ljgQXb4Gy3vB",
        "outputId": "a165c5e9-1fbf-4ffc-e285-e49568e7f6f0"
      },
      "outputs": [
        {
          "output_type": "stream",
          "name": "stdout",
          "text": [
            "Looking in indexes: https://pypi.org/simple, https://us-python.pkg.dev/colab-wheels/public/simple/\n",
            "Collecting git+https://github.com/openai/whisper.git\n",
            "  Cloning https://github.com/openai/whisper.git to /tmp/pip-req-build-4wnh73jt\n",
            "  Running command git clone --filter=blob:none --quiet https://github.com/openai/whisper.git /tmp/pip-req-build-4wnh73jt\n",
            "  Resolved https://github.com/openai/whisper.git to commit 248b6cb124225dd263bb9bd32d060b6517e067f8\n",
            "  Installing build dependencies ... \u001b[?25l\u001b[?25hdone\n",
            "  Getting requirements to build wheel ... \u001b[?25l\u001b[?25hdone\n",
            "  Preparing metadata (pyproject.toml) ... \u001b[?25l\u001b[?25hdone\n",
            "Requirement already satisfied: triton==2.0.0 in /usr/local/lib/python3.10/dist-packages (from openai-whisper==20230314) (2.0.0)\n",
            "Requirement already satisfied: numba in /usr/local/lib/python3.10/dist-packages (from openai-whisper==20230314) (0.56.4)\n",
            "Requirement already satisfied: numpy in /usr/local/lib/python3.10/dist-packages (from openai-whisper==20230314) (1.22.4)\n",
            "Requirement already satisfied: torch in /usr/local/lib/python3.10/dist-packages (from openai-whisper==20230314) (2.0.0+cu118)\n",
            "Requirement already satisfied: tqdm in /usr/local/lib/python3.10/dist-packages (from openai-whisper==20230314) (4.65.0)\n",
            "Requirement already satisfied: more-itertools in /usr/local/lib/python3.10/dist-packages (from openai-whisper==20230314) (9.1.0)\n",
            "Collecting tiktoken==0.3.3 (from openai-whisper==20230314)\n",
            "  Downloading tiktoken-0.3.3-cp310-cp310-manylinux_2_17_x86_64.manylinux2014_x86_64.whl (1.7 MB)\n",
            "\u001b[2K     \u001b[90m━━━━━━━━━━━━━━━━━━━━━━━━━━━━━━━━━━━━━━━━\u001b[0m \u001b[32m1.7/1.7 MB\u001b[0m \u001b[31m69.8 MB/s\u001b[0m eta \u001b[36m0:00:00\u001b[0m\n",
            "\u001b[?25hRequirement already satisfied: regex>=2022.1.18 in /usr/local/lib/python3.10/dist-packages (from tiktoken==0.3.3->openai-whisper==20230314) (2022.10.31)\n",
            "Requirement already satisfied: requests>=2.26.0 in /usr/local/lib/python3.10/dist-packages (from tiktoken==0.3.3->openai-whisper==20230314) (2.27.1)\n",
            "Requirement already satisfied: cmake in /usr/local/lib/python3.10/dist-packages (from triton==2.0.0->openai-whisper==20230314) (3.25.2)\n",
            "Requirement already satisfied: filelock in /usr/local/lib/python3.10/dist-packages (from triton==2.0.0->openai-whisper==20230314) (3.12.0)\n",
            "Requirement already satisfied: lit in /usr/local/lib/python3.10/dist-packages (from triton==2.0.0->openai-whisper==20230314) (16.0.3)\n",
            "Requirement already satisfied: llvmlite<0.40,>=0.39.0dev0 in /usr/local/lib/python3.10/dist-packages (from numba->openai-whisper==20230314) (0.39.1)\n",
            "Requirement already satisfied: setuptools in /usr/local/lib/python3.10/dist-packages (from numba->openai-whisper==20230314) (67.7.2)\n",
            "Requirement already satisfied: typing-extensions in /usr/local/lib/python3.10/dist-packages (from torch->openai-whisper==20230314) (4.5.0)\n",
            "Requirement already satisfied: sympy in /usr/local/lib/python3.10/dist-packages (from torch->openai-whisper==20230314) (1.11.1)\n",
            "Requirement already satisfied: networkx in /usr/local/lib/python3.10/dist-packages (from torch->openai-whisper==20230314) (3.1)\n",
            "Requirement already satisfied: jinja2 in /usr/local/lib/python3.10/dist-packages (from torch->openai-whisper==20230314) (3.1.2)\n",
            "Requirement already satisfied: urllib3<1.27,>=1.21.1 in /usr/local/lib/python3.10/dist-packages (from requests>=2.26.0->tiktoken==0.3.3->openai-whisper==20230314) (1.26.15)\n",
            "Requirement already satisfied: certifi>=2017.4.17 in /usr/local/lib/python3.10/dist-packages (from requests>=2.26.0->tiktoken==0.3.3->openai-whisper==20230314) (2022.12.7)\n",
            "Requirement already satisfied: charset-normalizer~=2.0.0 in /usr/local/lib/python3.10/dist-packages (from requests>=2.26.0->tiktoken==0.3.3->openai-whisper==20230314) (2.0.12)\n",
            "Requirement already satisfied: idna<4,>=2.5 in /usr/local/lib/python3.10/dist-packages (from requests>=2.26.0->tiktoken==0.3.3->openai-whisper==20230314) (3.4)\n",
            "Requirement already satisfied: MarkupSafe>=2.0 in /usr/local/lib/python3.10/dist-packages (from jinja2->torch->openai-whisper==20230314) (2.1.2)\n",
            "Requirement already satisfied: mpmath>=0.19 in /usr/local/lib/python3.10/dist-packages (from sympy->torch->openai-whisper==20230314) (1.3.0)\n",
            "Building wheels for collected packages: openai-whisper\n",
            "  Building wheel for openai-whisper (pyproject.toml) ... \u001b[?25l\u001b[?25hdone\n",
            "  Created wheel for openai-whisper: filename=openai_whisper-20230314-py3-none-any.whl size=798075 sha256=ac7444d810ce0f56251ead7a82de494f7bee65fec793c44942f1dbc79303117a\n",
            "  Stored in directory: /tmp/pip-ephem-wheel-cache-0gisp5sc/wheels/8b/6c/d0/622666868c179f156cf595c8b6f06f88bc5d80c4b31dccaa03\n",
            "Successfully built openai-whisper\n",
            "Installing collected packages: tiktoken, openai-whisper\n",
            "Successfully installed openai-whisper-20230314 tiktoken-0.3.3\n"
          ]
        }
      ],
      "source": [
        "!pip install git+https://github.com/openai/whisper.git\n"
      ]
    },
    {
      "cell_type": "markdown",
      "source": [
        "This worked well with a 20 min monologue or lecture. Upload file to first level of session storage"
      ],
      "metadata": {
        "id": "HJ3YDWlD-EHi"
      }
    },
    {
      "cell_type": "code",
      "source": [
        "import whisper\n",
        "model = whisper.load_model(\"small\")\n",
        "result = model.transcribe(\"/content/interview.mp3\")\n",
        "print(result[\"text\"])\n"
      ],
      "metadata": {
        "colab": {
          "base_uri": "https://localhost:8080/"
        },
        "id": "Ix4Q4WkozFzt",
        "outputId": "d1e7b903-901e-4e0f-ff85-4121f3e766d6"
      },
      "execution_count": 2,
      "outputs": [
        {
          "output_type": "stream",
          "name": "stderr",
          "text": [
            "100%|███████████████████████████████████████| 461M/461M [00:07<00:00, 61.4MiB/s]\n"
          ]
        },
        {
          "output_type": "stream",
          "name": "stdout",
          "text": [
            " Hey, everyone. Welcome to the Council Trend Podcast. I'm your host, Catholic Answers Apologist, Trent Horn, and it's May, which means that teacher contracts are usually up for renewal at Catholic schools, which means you often hear news stories about teachers at Catholic schools being fired quote unquote for being gay. Now, in today's episode, I'm going to address Father James Martin's argument that this constitutes unjust discrimination, so it's wrong. But before I do that, please take a moment to like the video, subscribe to our channel so you don't miss our content, and you help other people find out about us. All right. So as I said, there have been many cases of Catholic schools firing teachers and other staff for being in same sex relationships. Here's just a few examples. An openly gay teacher is out of a job after posting pictures of her wedding. Local officials say they were fired for being gay after both recently got engaged to their same sex partners. The reason she believes it happened because she's married to a woman. They haven't done anything to us. The only thing they've done is give us love and support. It doesn't feel like the faith that I know, like love and acceptance and all of those things. A straight, it doesn't matter. It doesn't matter. The doctrine within the church that can still let this happen just feels so outdated in the world that we live in. So Father James Martin says in his book Building a Bridge, the selectivity of focus on LGBT matters when it comes to firings is to use the words of the Catholic Catechism, a sign of unjust discrimination, number 2358, something we are to avoid. And here's how we put it in a talk at Villanova University. To that end, I am continually disheartened by the recent trend of the firing of LGBT people. The selectivity of focus on LGBT people is to use the words of the Catechism, a sign of unjust discrimination. Before I explain what's wrong with Father Martin's argument, I first want to say that I often feel bad for the teachers in these cases, and I more blame the administrators for allowing this to go on. What often happens is that the administrator knows the teacher lives in contradiction to church teaching and thinks it's okay. Frankly, in some of these cases, the administrator identifies as gay or lesbian. It doesn't see a problem. And so the administrator lets this go on with a wink, wink fashion, so to speak, for years. All the while, the teacher becomes very popular among the students. And then this all comes to a head when the teacher does something like try to marry a same-sex partner, marry, quote-unquote. And then the bishop has to step in and do something, and he looks like a big old meanie for firing this beloved teacher. After more than 30 years of teaching, Sue Fustin says it was a feeling that she had never had before she was suddenly fired from our Lady of Lords Catholic School in Decatur. She said evidently, a parent had gone to the father and given him a picture, a screenshot of a picture of Deb and I in our wedding dress. Fustin says it's particularly frustrating because she asked if her marriage to another woman would be an issue when she was asked to interview for the job. She said, it's okay with me. I do not care. It's not my business. It would be like a parent who allows his child to misbehave constantly, and then one day the other parent has to step in and harshly punish out of the blue. It's really the fault of the neglectful parent for letting the misbehavior go on for so long. For example, in 2019, the Archbishop of Indianapolis demanded Cathedral Catholic High School and Jesuit Rebuff Prep fire teachers from each school who were in a so-called same-sex marriage with each other. Now Cathedral agreed to fire their teacher, though their principal actually said in an interview he felt like he had a gun to his head. He did it because he didn't want to lose the school's funding and its Catholic status. The Jesuit School, Rebuff, chose to keep their teacher and they lost their relationship with the diocese and kept their funding through the Jesuits alone. Here's the news story on it. Keep an eye out for their helpful leadership graphic that has the Pope right at the top. One student said it seemed as if the school was backed into a corner by the Archdiocese, which threatened to revoke the school's official Catholic status and its financial support. On the news at 6 yesterday, our TV6 first showed you the same chain of command lesson the students were shown today, all in an effort to make sense of a complicated issue. At the heart of the opposite decisions made by Rebuff Prep and Cathedral High is who runs and funds the schools. Rebuff is sponsored by the Midwest Jesuits, which provides money and resources to the school. Across town, Cathedral follows the curriculum of the Holy Cross brothers but is independently run and depends on the Catholic Church to get its funding. Archbishop Charles Thompson leads the Office of Schools and the Indianapolis Archdiocese, the man who reports directly to the Pope, holds the power to revoke a school's official Catholic status. All right, so let's go back to Father Martin's argument that these kinds of firings constitute unjust discrimination. Discrimination in and of itself isn't wrong. That's simply the act of noticing a difference between two things. When a Catholic school does not hire someone because he's on a sex offender registry, they discriminate between that guy and a more qualified applicant. Just as your taste buds discriminate between chocolate and sulfur, the school recognizes a morally relevant difference and acts accordingly. Unjust discrimination, on the other hand, happens when people are treated differently because of something that is morally irrelevant. Past criminal behavior is morally relevant when it comes to teaching in a school. Skin color isn't. That's why refusing to hire a sex offender is an act of just discrimination and refusing to hire a black teacher is an act of unjust discrimination. Now, how does this relate to teachers who identify as LGBT? Sexual behavior is morally relevant to your ability to teach in a Catholic school. It should influence hiring and firing decisions. But notice I said sexual behavior as opposed to sexual orientation. To give you an example, see what I mean. Consider the case of foreign language teacher Michael Griffin. He was fired in 2013 from a Catholic school in Pennsylvania. Griffin said in an email to the administrators that he was going to be late to school because he was on his way to file for a license to quote unquote marry his boyfriend. The Huffington Post said, Mr. Griffin was fired essentially for being gay and lists the story under the topic fired for being gay. But Griffin was not fired for being gay. It'd be one thing if a school fired a teacher because he attended a Catholic support group for people with same sex attraction but who pledged uphold the church's teachings on chastity. That could be a case of firing someone merely for being gay and you could legitimately ask if that's a prudent thing to do. But in Griffin's case, he was fired not because of a private orientation or disposition but because he chose to publicly violate church teaching by trying to marry another man. Now, some people claim Catholic schools can't fire teachers who identify as LGBT because this violates federal civil rights acts that prevent discrimination based on gender, sexual orientation or marital status. Now, it's true that employers usually can't base their hiring and firing decisions on the fact that an employee belongs to a protected class. Like for example, you can't fire someone just because they're a woman or refuse to hire them because they're a woman. But there is an exception to the rule called the ministerial exception. The First Amendment prevents the government from prohibiting the free exercise of religion. And one of those exercises is a religion's ability to choose its own ministers. That's why radical feminists who belong to the protected class of women can't sue the Catholic Church for the right to have the job of being a priest. The ministerial exception doesn't only apply to ordain clergy either, it applies to religions with teaching ministers like pastors or rabbis. In 2012, the US Supreme Court unanimously decided in Hosanna Tabor Evangelical Lutheran Church and School versus the Equal Employment Opportunity Commission that the ministerial exception applied to teachers in religious schools, even if they teach a non religious subject like math. Several dioceses have required Catholic school teachers to sign contracts that they are ministers of the gospel, because they're role models. They often share their personal views with students on non academic subjects. And in 2020, the Supreme Court reaffirmed that decision in our Lady of Guadalupe School versus Marisi Beru. And it said there the ministerial exception applies to positions, even if they don't have the formal title of minister. Now, what Father Martin says is that if you fire teachers for violating rules related to sexual morality, you have to fire them for rules related to any morality. He says in building a bridge to be consistent, shouldn't we fire people for not helping the poor, for not being forgiving, or for not being loving, for being cruel? And he says a similar thing in the talk at Villanova. Requiring church employees to adhere to church teaching means at a more fundamental level adhering to the gospel, the most fundamental church teaching of all. Should we not fire people for shouldn't we fire people for not helping the poor, for not being forgiven, for not being loving, for being cruel? Surely you know people, you've run into people who have worked in parish settings or church settings who are just mean, right? Now, I made this comment and someone online said, well, that's not a, that's not public scandal. LGBT marriage is a public scandal. It's not something public. And I want to say, have you ever worked in any sort of professional setting? Being cruel is a very public thing. And I'm glad you're laughing, because it is silly, because we selectively focus on one group and one practice. Yes, we should fire teachers who are cruel, a teacher who verbally, physically, emotionally, or in any other way abuses his students should be terminated immediately. Same with a teacher who unlovingly allows his classrooms to be free to be a free for all, but not every moral failing demands termination. Instead, we need to follow this principle. Does the behavior hinder the person's ability to carry out his job? And in order to answer that question, we need to answer this question. What is the job of a Catholic schoolteacher or faculty member? It's not to merely teach a subject at a Catholic school. Some people think religious instruction is only the responsibility of the theology department. But every employee of a Catholic school has a responsibility to strengthen the faith of Catholic students and evangelize non-Catholic students. The National Directory for Catechesis, which is published by the USCCB, says the following, all teachers in Catholic schools share in the Catechetical ministry, all members of the faculty, at least by their example, are an integral part of the process of religious education. Teachers' lifestyle and character are as important as their professional credentials. Even those who teach non-religious subjects share in the mission of Catechesis through the example of their personal conduct. You know, they talk about news and current events before class starts. They form friendships with students. The students look up to them and they take note of the teacher's personal life. The students see them as role models. That's why if these teachers are bad Catholic role models for students, they need to be let go. A teacher who didn't donate money to the poor last year can still carry out the job of educating students. A teacher who advocates for social Darwinism in the classroom or online and wants the poor to die off will let teacher cause a scandal. He can't carry out his job of teaching students. Father Martin gives other examples where he says the church is being selective in who it chooses to fire and who it doesn't. If adherence to church teaching is going to be a litmus test for employment in a Catholic institution, then we should be consistent. Do we fire people who are divorced and remarried without an annulment? Do we fire women who bear children out of wedlock or fathers who bear children out of wedlock? Do we fire people who are living together without being married, living together before they're married? Do we fire people who use birth control all against church teaching? So what about teachers in invalid marriages or ones who use contraception? Well, if they make these sins public to their students and say that they aren't a big deal, they should be treated like LGBT teachers who make it public that they engage in sodomy or have a counterfeit marriage and act like that isn't a big deal. The fact that some sins go undiscovered does not mean you should not fire teachers who publicly engage in grave sins and cause scandal. When it comes to fornication, there have been cases of male teachers being fired for getting their girlfriends pregnant, though there's more stories about pregnant unmarried teachers being fired. Now, some people say firing a pregnant unmarried teacher punishes her for not getting an abortion. But imagine a teacher stole money from the school, felt guilty and then returned it. He'd still be fired. But that firing would not be a punishment for doing the right thing of returning the money. It'd be a natural consequence of his actions. Once again, Catholic faculty are role models to students. And while it is good to model not getting an abortion, just like it's good to model returning what you've stolen, we should expect employees to not steal or fornicate in the first place. During his 2004 visit to the United States, Pope John Paul II said this, it is of utmost importance, therefore, that the church's institutions be genuinely Catholic, Catholic in their self understanding, and Catholic in their identity. All those who share in the apostolates of such institutions, including those who are not of the faith, should show a sincere and respectful appreciation of that mission, which is their inspiration and ultimate raison d'etre. So now we have a workable standard. People who engage in public grave sins are unfit to be Catholic school teachers because they scandalize students and undermine church teaching. Even if you just publicly advocate for a grave evil, you should be shown the door. As was the case in Maryland, where a teacher was fired for writing posts at a white supremacist website. We're hearing from a former local teacher and coach and how his students discovered he's a member of a white nationalist group. The All Girls Academy of the Holy Cross in Kensington, Maryland fired him. I'm upset because I didn't know that he had like this double life going on, but it's also shocking because I wouldn't think that like in this type of set, like in this century that there's people still like that out there. Or a teacher in South Carolina who was fired for supporting abortion on social media. Principal at Bishop England gave her a termination letter where they said they knew Cox had a Facebook account that publicly supported abortion. They were firing her because she publicly supported abortion and went against teachings the Roman Catholic Church. Can you imagine Father Martin offering his typical logic in these cases? If you fire someone for being racist, you have to fire every teacher who's unloving. That's discrimination. You can't believe it because while Father Martin believes racism is wicked, he doesn't believe sodomy is wicked. In fact, Father Martin, if you're watching, have a message. If you're willing to publicly say, God has told us that sexual behavior between two men or two women is wicked and gravely depraved, I'll donate $1,000 to the charity of your choice. We'll see if he does it. In any case, if distorting the value of the human person through racism is enough to make one unfit to teach in a Catholic school, then why wouldn't distorting our sexuality also make someone unfit to teach in a Catholic school? Father Martin's favorite example of Catholic school employees who we don't usually expect to live under church teachings are non-Catholics. In Building a Bridge, he asks if Catholic organizations should fire Protestants or Jews or atheists who work for them. He says Catholic organizations or schools don't do this because we are selective, perhaps unconsciously, perhaps consciously, about which church teachings matter. And here's how he put it at Villanova. If we fire employees that don't agree with right here to church teaching, that means we have to fire Protestants who work in Catholic institutions because they don't believe in papal authority. That's a pretty important church teaching. Do we fire Unitarians who don't believe in the Trinity? Pretty important church teaching. Do we fire people for these things? We do not, because we are selective about which church teachings matter. Catholic school administrators should not fire someone because of the religion he practiced when he was hired. But if teachers are lay ministers of the faith, then yeah, you should hire and fire teachers based on their religious affiliation. For example, if a teacher was Catholic when he was hired, but later left the faith and is now publicly proclaiming on social media why people should be atheists, he should be fired. Even faculty who aren't on social media end up sharing their personal views on religious matters with students. So their decision to reject the Catholic faith, or at least to publicly do so, justifies the school rejecting them in favor of a more faithful employee. That's why the church's code of canon law says formation and education in a Catholic school must be based on the principles of Catholic doctrine. And the teachers must be outstanding and true doctrine and uprightness of life. The National Directory for Catechesis advises Catholic school leaders to recruit teachers who are practicing Catholics, who can understand and accept the teachings of the Catholic Church and the moral demands of the gospel, and who can contribute to the achievement of the school's Catholic identity and apostolic goals. Now, the Directory does acknowledge that although some situations might entail compelling reasons for members of another faith tradition to teach in a Catholic school, as much as possible, all teachers in a Catholic school should be practicing Catholics. For example, if there's no applications from Catholic math teachers, you might hire a Protestant who's willing to promote the Catholic faith and in no way publicly oppose its teachings. But given that less than 1% of civil unions involve same-sex couples, shouldn't be hard to find an applicant who at least satisfies that part of Catholic teaching. Also, hiring a non-Catholic teacher does not affirm a fundamental error in society on something as important as marriage. Hiring a teacher in a so-called same-sex marriage is not like hiring a Presbyterian. It's like hiring a polygamist. So to summarize, when you come across Catholics who say it's discrimination when LGBT teachers are not hired or are fired for publicly opposing church teaching, ask, well, when should teachers be fired? What is a Catholic school teacher's fundamental job? And if a teacher sets a bad example for students, when should they be let go? What moral teachings of the church should a Catholic school teacher exemplify? Or at the very least, what are the moral teachings we would expect a school teacher to not publicly violate and scandalize their students? So I hope this is helpful for all of you and yeah, I just hope that you have a very blessed day. Hey, thanks for watching this video. If you want to help us produce more great content like this, be sure to click subscribe and go to trendhornpodcast.com to become a premium subscriber. You'll help us create more videos like this and get access to bonus content and sneak peeks of our upcoming projects.\n"
          ]
        }
      ]
    },
    {
      "cell_type": "code",
      "source": [
        "with open('/content/transcription.txt', 'w') as f:\n",
        "    f.write(result[\"text\"])\n"
      ],
      "metadata": {
        "id": "rrX94BdCzk9U"
      },
      "execution_count": 5,
      "outputs": []
    }
  ]
}