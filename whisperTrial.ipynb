{
  "nbformat": 4,
  "nbformat_minor": 0,
  "metadata": {
    "colab": {
      "provenance": [],
      "gpuType": "T4",
      "authorship_tag": "ABX9TyOhZUrs3K0+UCD/RHICWHdY",
      "include_colab_link": true
    },
    "kernelspec": {
      "name": "python3",
      "display_name": "Python 3"
    },
    "language_info": {
      "name": "python"
    },
    "accelerator": "GPU",
    "gpuClass": "standard"
  },
  "cells": [
    {
      "cell_type": "markdown",
      "metadata": {
        "id": "view-in-github",
        "colab_type": "text"
      },
      "source": [
        "<a href=\"https://colab.research.google.com/github/chrisnnchris/whisperTranscribeGColab/blob/main/whisperTrial.ipynb\" target=\"_parent\"><img src=\"https://colab.research.google.com/assets/colab-badge.svg\" alt=\"Open In Colab\"/></a>"
      ]
    },
    {
      "cell_type": "code",
      "execution_count": null,
      "metadata": {
        "id": "ljgQXb4Gy3vB"
      },
      "outputs": [],
      "source": [
        "!pip install git+https://github.com/openai/whisper.git\n"
      ]
    },
    {
      "cell_type": "markdown",
      "source": [
        "This worked well with a 20 min monologue or lecture. Upload file to first level of session storage"
      ],
      "metadata": {
        "id": "HJ3YDWlD-EHi"
      }
    },
    {
      "cell_type": "code",
      "source": [
        "import whisper\n",
        "model = whisper.load_model(\"small\")\n",
        "result = model.transcribe(\"/content/interview.mp3\")\n",
        "print(result[\"text\"])\n"
      ],
      "metadata": {
        "id": "Ix4Q4WkozFzt"
      },
      "execution_count": null,
      "outputs": []
    },
    {
      "cell_type": "code",
      "source": [
        "with open('/content/transcription.txt', 'w') as f:\n",
        "    f.write(result[\"text\"])\n"
      ],
      "metadata": {
        "id": "rrX94BdCzk9U"
      },
      "execution_count": 5,
      "outputs": []
    }
  ]
}